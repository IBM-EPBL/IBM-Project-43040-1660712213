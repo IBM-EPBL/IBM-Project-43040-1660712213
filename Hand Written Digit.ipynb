{
 "cells": [
  {
   "cell_type": "code",
   "execution_count": 1,
   "id": "2b31d844",
   "metadata": {},
   "outputs": [],
   "source": [
    "from tensorflow.keras.models import load_model\n",
    "model = load_model(r'C:/Users/afree/Hand written recognition System/models/mnistCNN.h5')\n",
    "from PIL import Image\n",
    "import numpy as np\n"
   ]
  },
  {
   "cell_type": "code",
   "execution_count": 4,
   "id": "9f4bc0b7",
   "metadata": {},
   "outputs": [
    {
     "name": "stdout",
     "output_type": "stream",
     "text": [
      "[[2.3109092e-14 4.1263711e-11 2.1284296e-07 9.9999976e-01 4.1227597e-15\n",
      "  1.1695666e-11 7.5800678e-11 1.4903832e-13 2.2542817e-08 1.2079553e-10]]\n",
      "[[2.3109092e-14 4.1263711e-11 2.1284296e-07 9.9999976e-01 4.1227597e-15\n",
      "  1.1695666e-11 7.5800678e-11 1.4903832e-13 2.2542817e-08 1.2079553e-10]]\n",
      "[[2.3109092e-14 4.1263711e-11 2.1284296e-07 9.9999976e-01 4.1227597e-15\n",
      "  1.1695666e-11 7.5800678e-11 1.4903832e-13 2.2542817e-08 1.2079553e-10]]\n",
      "[[2.3109092e-14 4.1263711e-11 2.1284296e-07 9.9999976e-01 4.1227597e-15\n",
      "  1.1695666e-11 7.5800678e-11 1.4903832e-13 2.2542817e-08 1.2079553e-10]]\n"
     ]
    }
   ],
   "source": [
    "for index in range(4):\n",
    "    img = Image.open('data.png').convert(\"L\")\n",
    "    img = img.resize((28,28))\n",
    "    im2arr = np.array(img)\n",
    "    im2arr = im2arr.reshape(1,28,28,1)\n",
    "    y_pred = model.predict(im2arr)\n",
    "    print(y_pred)"
   ]
  },
  {
   "cell_type": "code",
   "execution_count": 6,
   "id": "87ef767a",
   "metadata": {},
   "outputs": [
    {
     "name": "stdout",
     "output_type": "stream",
     "text": [
      "[[2.3109092e-14 4.1263711e-11 2.1284296e-07 9.9999976e-01 4.1227597e-15\n",
      "  1.1695666e-11 7.5800678e-11 1.4903832e-13 2.2542817e-08 1.2079553e-10]]\n",
      "[[0.08097887 0.12275718 0.06788518 0.13589148 0.08416526 0.0999162\n",
      "  0.06582757 0.09798318 0.10073984 0.14385524]]\n",
      "[[3.5767525e-04 1.2871558e-04 5.3335410e-03 6.3541763e-02 1.8426836e-05\n",
      "  7.2387524e-02 9.5391979e-06 7.9398160e-04 5.8538586e-05 8.5737020e-01]]\n",
      "[[0.37080112 0.0032823  0.07598254 0.04606272 0.00313458 0.06640296\n",
      "  0.00187511 0.01153425 0.05131409 0.3696103 ]]\n"
     ]
    }
   ],
   "source": [
    "for index in range(4):\n",
    "    img = Image.open('data-' +str(index)+ '.png').convert(\"L\")\n",
    "    img = img.resize((28,28))\n",
    "    im2arr = np.array(img)\n",
    "    im2arr = im2arr.reshape(1,28,28,1)\n",
    "    y_pred = model.predict(im2arr)\n",
    "    print(y_pred)"
   ]
  },
  {
   "cell_type": "code",
   "execution_count": null,
   "id": "fd2c1463",
   "metadata": {},
   "outputs": [],
   "source": []
  }
 ],
 "metadata": {
  "kernelspec": {
   "display_name": "Python 3 (ipykernel)",
   "language": "python",
   "name": "python3"
  },
  "language_info": {
   "codemirror_mode": {
    "name": "ipython",
    "version": 3
   },
   "file_extension": ".py",
   "mimetype": "text/x-python",
   "name": "python",
   "nbconvert_exporter": "python",
   "pygments_lexer": "ipython3",
   "version": "3.9.7"
  }
 },
 "nbformat": 4,
 "nbformat_minor": 5
}
