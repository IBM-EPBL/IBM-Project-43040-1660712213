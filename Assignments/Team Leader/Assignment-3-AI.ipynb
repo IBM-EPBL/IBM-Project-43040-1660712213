{
 "cells": [
  {
   "cell_type": "code",
   "execution_count": 33,
   "id": "f0704d15",
   "metadata": {},
   "outputs": [],
   "source": [
    "\n",
    "import tensorflow as tf\n"
   ]
  },
  {
   "cell_type": "code",
   "execution_count": 85,
   "id": "91ba13dc",
   "metadata": {},
   "outputs": [
    {
     "name": "stdout",
     "output_type": "stream",
     "text": [
      " Volume in drive C is Windows\n",
      " Volume Serial Number is 3253-6492\n",
      "\n",
      " Directory of C:\\Users\\afree\\Assignment-3-AI\n",
      "\n",
      "13-10-2022  11:29 PM    <DIR>          .\n",
      "13-10-2022  08:15 PM    <DIR>          ..\n",
      "13-10-2022  07:27 PM    <DIR>          .ipynb_checkpoints\n",
      "13-10-2022  11:29 PM            11,801 Assignment-3-AI.ipynb\n",
      "13-10-2022  11:26 PM    <DIR>          Flowers-Dataset\n",
      "13-10-2022  06:33 PM       235,663,188 Flowers-Dataset.zip\n",
      "               2 File(s)    235,674,989 bytes\n",
      "               4 Dir(s)  397,385,011,200 bytes free\n"
     ]
    }
   ],
   "source": [
    "ls"
   ]
  },
  {
   "cell_type": "code",
   "execution_count": 86,
   "id": "b259a915",
   "metadata": {},
   "outputs": [
    {
     "data": {
      "text/plain": [
       "'C:\\\\Users\\\\afree\\\\Assignment-3-AI'"
      ]
     },
     "execution_count": 86,
     "metadata": {},
     "output_type": "execute_result"
    }
   ],
   "source": [
    "pwd"
   ]
  },
  {
   "cell_type": "markdown",
   "id": "5eeda8bd",
   "metadata": {},
   "source": [
    "# Downloading the Dataset"
   ]
  },
  {
   "cell_type": "code",
   "execution_count": 87,
   "id": "7698dea5",
   "metadata": {},
   "outputs": [],
   "source": [
    "from tensorflow.keras.preprocessing.image import ImageDataGenerator"
   ]
  },
  {
   "cell_type": "code",
   "execution_count": 88,
   "id": "c2bcef54",
   "metadata": {},
   "outputs": [],
   "source": [
    "train_datagen=ImageDataGenerator(rescale=1./255,horizontal_flip= True,vertical_flip=True,zoom_range=0.2)"
   ]
  },
  {
   "cell_type": "code",
   "execution_count": 89,
   "id": "54e75fbd",
   "metadata": {},
   "outputs": [],
   "source": [
    "test_datagen=ImageDataGenerator(rescale=1./255)"
   ]
  },
  {
   "cell_type": "code",
   "execution_count": 92,
   "id": "48227184",
   "metadata": {},
   "outputs": [
    {
     "name": "stdout",
     "output_type": "stream",
     "text": [
      "Found 4317 images belonging to 5 classes.\n"
     ]
    }
   ],
   "source": [
    "x_train = train_datagen.flow_from_directory(r\"Flowers-Dataset\\flowers\",target_size = (64,64),class_mode=\"categorical\",batch_size=24)"
   ]
  },
  {
   "cell_type": "code",
   "execution_count": 93,
   "id": "95d39595",
   "metadata": {},
   "outputs": [
    {
     "name": "stdout",
     "output_type": "stream",
     "text": [
      "Found 4317 images belonging to 5 classes.\n"
     ]
    }
   ],
   "source": [
    "x_test = test_datagen.flow_from_directory(r\"Flowers-Dataset\\flowers\",target_size = (64,64),class_mode=\"categorical\",batch_size=24)"
   ]
  },
  {
   "cell_type": "markdown",
   "id": "4c32973c",
   "metadata": {},
   "source": [
    "# Model Creation and Adding Layers"
   ]
  },
  {
   "cell_type": "code",
   "execution_count": 94,
   "id": "ba7546bd",
   "metadata": {},
   "outputs": [],
   "source": [
    "from tensorflow.keras.models import Sequential\n",
    "from tensorflow.keras.layers import Convolution2D,MaxPooling2D,Flatten,Dense\n"
   ]
  },
  {
   "cell_type": "code",
   "execution_count": 95,
   "id": "03ee5261",
   "metadata": {},
   "outputs": [],
   "source": [
    "model = Sequential()"
   ]
  },
  {
   "cell_type": "code",
   "execution_count": 96,
   "id": "22f30e50",
   "metadata": {},
   "outputs": [],
   "source": [
    "model.add(Convolution2D(32,(3,3),activation=\"relu\",input_shape=(64,64,3)))"
   ]
  },
  {
   "cell_type": "code",
   "execution_count": 97,
   "id": "9f178719",
   "metadata": {},
   "outputs": [],
   "source": [
    "model.add(MaxPooling2D(pool_size=(2,2)))"
   ]
  },
  {
   "cell_type": "code",
   "execution_count": 98,
   "id": "e42907a3",
   "metadata": {},
   "outputs": [],
   "source": [
    "model.add(Flatten())"
   ]
  },
  {
   "cell_type": "code",
   "execution_count": 99,
   "id": "c9ac5eff",
   "metadata": {},
   "outputs": [],
   "source": [
    "model.add(Dense(300,activation=\"relu\"))"
   ]
  },
  {
   "cell_type": "code",
   "execution_count": 100,
   "id": "9a01cdab",
   "metadata": {},
   "outputs": [],
   "source": [
    "model.add(Dense(300,activation=\"relu\"))"
   ]
  },
  {
   "cell_type": "code",
   "execution_count": 106,
   "id": "312521ac",
   "metadata": {},
   "outputs": [],
   "source": [
    "model.add(Dense(5,activation=\"softmax\"))"
   ]
  },
  {
   "cell_type": "markdown",
   "id": "d63a45b4",
   "metadata": {},
   "source": [
    "# Compiling the model"
   ]
  },
  {
   "cell_type": "code",
   "execution_count": 107,
   "id": "d064b97b",
   "metadata": {},
   "outputs": [],
   "source": [
    "model.compile(loss=\"categorical_crossentropy\", metrics=[\"accuracy\"],optimizer='adam')"
   ]
  },
  {
   "cell_type": "code",
   "execution_count": 108,
   "id": "0ecbefb2",
   "metadata": {},
   "outputs": [
    {
     "data": {
      "text/plain": [
       "180"
      ]
     },
     "execution_count": 108,
     "metadata": {},
     "output_type": "execute_result"
    }
   ],
   "source": [
    "len(x_train)"
   ]
  },
  {
   "cell_type": "markdown",
   "id": "5a114a1f",
   "metadata": {},
   "source": [
    "# Fitting the model"
   ]
  },
  {
   "cell_type": "code",
   "execution_count": 109,
   "id": "75dc72b6",
   "metadata": {},
   "outputs": [
    {
     "name": "stdout",
     "output_type": "stream",
     "text": [
      "Epoch 1/5\n",
      "180/180 [==============================] - 76s 419ms/step - loss: 1.6227 - accuracy: 0.2432 - val_loss: 1.6094 - val_accuracy: 0.2437\n",
      "Epoch 2/5\n",
      "180/180 [==============================] - 40s 224ms/step - loss: 1.6045 - accuracy: 0.2437 - val_loss: 1.6010 - val_accuracy: 0.2437\n",
      "Epoch 3/5\n",
      "180/180 [==============================] - 43s 239ms/step - loss: 1.6001 - accuracy: 0.2437 - val_loss: 1.5991 - val_accuracy: 0.2437\n",
      "Epoch 4/5\n",
      "180/180 [==============================] - 40s 225ms/step - loss: 1.5991 - accuracy: 0.2437 - val_loss: 1.5986 - val_accuracy: 0.2437\n",
      "Epoch 5/5\n",
      "180/180 [==============================] - 43s 238ms/step - loss: 1.5989 - accuracy: 0.2437 - val_loss: 1.5985 - val_accuracy: 0.2437\n"
     ]
    },
    {
     "data": {
      "text/plain": [
       "<keras.callbacks.History at 0x28bf0891580>"
      ]
     },
     "execution_count": 109,
     "metadata": {},
     "output_type": "execute_result"
    }
   ],
   "source": [
    "model.fit(x_train, epochs=5,validation_data=x_test,steps_per_epoch=len(x_train),validation_steps=len(x_test))"
   ]
  },
  {
   "cell_type": "code",
   "execution_count": 110,
   "id": "8568995b",
   "metadata": {},
   "outputs": [
    {
     "name": "stdout",
     "output_type": "stream",
     "text": [
      "180/180 [==============================] - 13s 74ms/step - loss: 1.5985 - accuracy: 0.2437\n"
     ]
    }
   ],
   "source": [
    "test_loss, test_accuracy = model.evaluate(x_test)"
   ]
  },
  {
   "cell_type": "code",
   "execution_count": 112,
   "id": "8ccfae35",
   "metadata": {},
   "outputs": [],
   "source": [
    "model.save(\"flowers.h5\")"
   ]
  },
  {
   "cell_type": "markdown",
   "id": "63e267ac",
   "metadata": {},
   "source": [
    "# Testing of the model"
   ]
  },
  {
   "cell_type": "code",
   "execution_count": 123,
   "id": "302ef1d8",
   "metadata": {},
   "outputs": [],
   "source": [
    "from tensorflow.keras.models import load_model\n",
    "from tensorflow.keras.preprocessing import image\n",
    "import numpy as np"
   ]
  },
  {
   "cell_type": "code",
   "execution_count": 124,
   "id": "f8d02633",
   "metadata": {},
   "outputs": [],
   "source": [
    "model = load_model(\"flowers.h5\")"
   ]
  },
  {
   "cell_type": "code",
   "execution_count": 125,
   "id": "b83466eb",
   "metadata": {},
   "outputs": [],
   "source": [
    "img = image.load_img(\"daisy.jpg\", target_size=(64,64))"
   ]
  },
  {
   "cell_type": "code",
   "execution_count": 126,
   "id": "b55f1bcd",
   "metadata": {},
   "outputs": [
    {
     "data": {
      "image/png": "[encoded data removed]",
      "text/plain": [
       "<PIL.Image.Image image mode=RGB size=64x64 at 0x28BECC09790>"
      ]
     },
     "execution_count": 126,
     "metadata": {},
     "output_type": "execute_result"
    }
   ],
   "source": [
    "img"
   ]
  },
  {
   "cell_type": "code",
   "execution_count": 127,
   "id": "a8d7b684",
   "metadata": {},
   "outputs": [],
   "source": [
    "x = image.img_to_array(img)"
   ]
  },
  {
   "cell_type": "code",
   "execution_count": 128,
   "id": "81cb9353",
   "metadata": {},
   "outputs": [
    {
     "data": {
      "text/plain": [
       "array([[[16., 19.,  8.],\n",
       "        [16., 20.,  5.],\n",
       "        [22., 26.,  9.],\n",
       "        ...,\n",
       "        [22., 30., 19.],\n",
       "        [27., 33., 21.],\n",
       "        [34., 39., 19.]],\n",
       "\n",
       "       [[16., 19.,  8.],\n",
       "        [16., 20.,  5.],\n",
       "        [18., 22.,  5.],\n",
       "        ...,\n",
       "        [24., 33., 16.],\n",
       "        [29., 36., 18.],\n",
       "        [36., 41., 19.]],\n",
       "\n",
       "       [[19., 22., 11.],\n",
       "        [15., 19.,  4.],\n",
       "        [19., 23.,  6.],\n",
       "        ...,\n",
       "        [30., 40., 15.],\n",
       "        [29., 37., 13.],\n",
       "        [28., 33., 10.]],\n",
       "\n",
       "       ...,\n",
       "\n",
       "       [[38., 45., 14.],\n",
       "        [27., 33.,  5.],\n",
       "        [25., 31.,  5.],\n",
       "        ...,\n",
       "        [12., 16.,  1.],\n",
       "        [15., 19.,  4.],\n",
       "        [19., 23.,  8.]],\n",
       "\n",
       "       [[28., 34.,  8.],\n",
       "        [23., 29.,  3.],\n",
       "        [29., 35.,  9.],\n",
       "        ...,\n",
       "        [14., 18.,  3.],\n",
       "        [17., 21.,  6.],\n",
       "        [21., 25., 10.]],\n",
       "\n",
       "       [[29., 34., 12.],\n",
       "        [33., 38., 15.],\n",
       "        [34., 40., 14.],\n",
       "        ...,\n",
       "        [17., 21.,  6.],\n",
       "        [20., 24.,  9.],\n",
       "        [25., 29., 14.]]], dtype=float32)"
      ]
     },
     "execution_count": 128,
     "metadata": {},
     "output_type": "execute_result"
    }
   ],
   "source": [
    "x"
   ]
  },
  {
   "cell_type": "code",
   "execution_count": 131,
   "id": "279c065e",
   "metadata": {},
   "outputs": [
    {
     "data": {
      "text/plain": [
       "3"
      ]
     },
     "execution_count": 131,
     "metadata": {},
     "output_type": "execute_result"
    }
   ],
   "source": [
    "x.ndim"
   ]
  },
  {
   "cell_type": "code",
   "execution_count": 132,
   "id": "1472bff8",
   "metadata": {},
   "outputs": [],
   "source": [
    "x = np.expand_dims(x,axis=0)"
   ]
  },
  {
   "cell_type": "code",
   "execution_count": 133,
   "id": "bb4bf328",
   "metadata": {},
   "outputs": [
    {
     "data": {
      "text/plain": [
       "4"
      ]
     },
     "execution_count": 133,
     "metadata": {},
     "output_type": "execute_result"
    }
   ],
   "source": [
    "x.ndim"
   ]
  },
  {
   "cell_type": "code",
   "execution_count": 134,
   "id": "7d3a07f1",
   "metadata": {},
   "outputs": [],
   "source": [
    "pred = model.predict(x)"
   ]
  },
  {
   "cell_type": "code",
   "execution_count": 135,
   "id": "34d349ce",
   "metadata": {},
   "outputs": [
    {
     "data": {
      "text/plain": [
       "array([[0.17449002, 0.24498786, 0.18180014, 0.17114119, 0.22758085]],\n",
       "      dtype=float32)"
      ]
     },
     "execution_count": 135,
     "metadata": {},
     "output_type": "execute_result"
    }
   ],
   "source": [
    "pred"
   ]
  }
 ],
 "metadata": {
  "kernelspec": {
   "display_name": "Python 3 (ipykernel)",
   "language": "python",
   "name": "python3"
  },
  "language_info": {
   "codemirror_mode": {
    "name": "ipython",
    "version": 3
   },
   "file_extension": ".py",
   "mimetype": "text/x-python",
   "name": "python",
   "nbconvert_exporter": "python",
   "pygments_lexer": "ipython3",
   "version": "3.9.7"
  }
 },
 "nbformat": 4,
 "nbformat_minor": 5
}
